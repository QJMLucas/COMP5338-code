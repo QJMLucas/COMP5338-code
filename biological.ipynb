{
 "cells": [
  {
   "cell_type": "code",
   "execution_count": 180,
   "metadata": {},
   "outputs": [],
   "source": [
    "f = open(\"biological_network.gml\", \"r\")"
   ]
  },
  {
   "cell_type": "code",
   "execution_count": 181,
   "metadata": {},
   "outputs": [
    {
     "name": "stdout",
     "output_type": "stream",
     "text": [
      "first or last\n",
      "first or last\n"
     ]
    }
   ],
   "source": [
    "id_list = []\n",
    "name_list = []\n",
    "\n",
    "\n",
    "source_list= []\n",
    "target_list =[]\n",
    "type_list = []\n",
    "\n",
    "\n",
    "for x in f:\n",
    "    y = x.split(' ')\n",
    "    \n",
    "    \n",
    "    try:\n",
    "        if y[2] == 'node':\n",
    "            id_list.append(y[5])\n",
    "            name_list.append(y[7])\n",
    "        elif y[2] == 'edge':\n",
    "            source_list.append(y[5])\n",
    "            target_list.append(y[7])\n",
    "            type_list.append(y[9])\n",
    "    except:\n",
    "        print('first or last')\n",
    "    "
   ]
  },
  {
   "cell_type": "code",
   "execution_count": 182,
   "metadata": {},
   "outputs": [],
   "source": [
    "f.close()"
   ]
  },
  {
   "cell_type": "code",
   "execution_count": 183,
   "metadata": {},
   "outputs": [],
   "source": [
    "import pandas as pd"
   ]
  },
  {
   "cell_type": "code",
   "execution_count": 184,
   "metadata": {},
   "outputs": [],
   "source": [
    "df1 = pd.DataFrame()\n",
    "df2 = pd.DataFrame()"
   ]
  },
  {
   "cell_type": "code",
   "execution_count": null,
   "metadata": {},
   "outputs": [],
   "source": []
  },
  {
   "cell_type": "code",
   "execution_count": 185,
   "metadata": {},
   "outputs": [],
   "source": [
    "df1['id'] = id_list\n",
    "df1['name'] = name_list"
   ]
  },
  {
   "cell_type": "code",
   "execution_count": 186,
   "metadata": {},
   "outputs": [],
   "source": [
    "df2['source'] = source_list\n",
    "df2['target'] = target_list\n",
    "df2['type'] = type_list"
   ]
  },
  {
   "cell_type": "code",
   "execution_count": 187,
   "metadata": {},
   "outputs": [
    {
     "data": {
      "text/html": [
       "<div>\n",
       "<style scoped>\n",
       "    .dataframe tbody tr th:only-of-type {\n",
       "        vertical-align: middle;\n",
       "    }\n",
       "\n",
       "    .dataframe tbody tr th {\n",
       "        vertical-align: top;\n",
       "    }\n",
       "\n",
       "    .dataframe thead th {\n",
       "        text-align: right;\n",
       "    }\n",
       "</style>\n",
       "<table border=\"1\" class=\"dataframe\">\n",
       "  <thead>\n",
       "    <tr style=\"text-align: right;\">\n",
       "      <th></th>\n",
       "      <th>id</th>\n",
       "      <th>name</th>\n",
       "    </tr>\n",
       "  </thead>\n",
       "  <tbody>\n",
       "    <tr>\n",
       "      <td>0</td>\n",
       "      <td>1</td>\n",
       "      <td>\"aceBAK\"</td>\n",
       "    </tr>\n",
       "    <tr>\n",
       "      <td>1</td>\n",
       "      <td>2</td>\n",
       "      <td>\"acnA\"</td>\n",
       "    </tr>\n",
       "    <tr>\n",
       "      <td>2</td>\n",
       "      <td>3</td>\n",
       "      <td>\"acrAB\"</td>\n",
       "    </tr>\n",
       "    <tr>\n",
       "      <td>3</td>\n",
       "      <td>4</td>\n",
       "      <td>\"acrR\"</td>\n",
       "    </tr>\n",
       "    <tr>\n",
       "      <td>4</td>\n",
       "      <td>5</td>\n",
       "      <td>\"acs\"</td>\n",
       "    </tr>\n",
       "  </tbody>\n",
       "</table>\n",
       "</div>"
      ],
      "text/plain": [
       "  id      name\n",
       "0  1  \"aceBAK\"\n",
       "1  2    \"acnA\"\n",
       "2  3   \"acrAB\"\n",
       "3  4    \"acrR\"\n",
       "4  5     \"acs\""
      ]
     },
     "execution_count": 187,
     "metadata": {},
     "output_type": "execute_result"
    }
   ],
   "source": [
    "df1.head()"
   ]
  },
  {
   "cell_type": "code",
   "execution_count": 188,
   "metadata": {},
   "outputs": [],
   "source": [
    "df = df1.merge(df2, left_on='id', right_on='source')"
   ]
  },
  {
   "cell_type": "code",
   "execution_count": 189,
   "metadata": {},
   "outputs": [
    {
     "data": {
      "text/html": [
       "<div>\n",
       "<style scoped>\n",
       "    .dataframe tbody tr th:only-of-type {\n",
       "        vertical-align: middle;\n",
       "    }\n",
       "\n",
       "    .dataframe tbody tr th {\n",
       "        vertical-align: top;\n",
       "    }\n",
       "\n",
       "    .dataframe thead th {\n",
       "        text-align: right;\n",
       "    }\n",
       "</style>\n",
       "<table border=\"1\" class=\"dataframe\">\n",
       "  <thead>\n",
       "    <tr style=\"text-align: right;\">\n",
       "      <th></th>\n",
       "      <th>id</th>\n",
       "      <th>name</th>\n",
       "      <th>source</th>\n",
       "      <th>target</th>\n",
       "      <th>type</th>\n",
       "    </tr>\n",
       "  </thead>\n",
       "  <tbody>\n",
       "    <tr>\n",
       "      <td>0</td>\n",
       "      <td>1</td>\n",
       "      <td>\"aceBAK\"</td>\n",
       "      <td>1</td>\n",
       "      <td>24</td>\n",
       "      <td>2</td>\n",
       "    </tr>\n",
       "    <tr>\n",
       "      <td>1</td>\n",
       "      <td>1</td>\n",
       "      <td>\"aceBAK\"</td>\n",
       "      <td>1</td>\n",
       "      <td>148</td>\n",
       "      <td>2</td>\n",
       "    </tr>\n",
       "    <tr>\n",
       "      <td>2</td>\n",
       "      <td>1</td>\n",
       "      <td>\"aceBAK\"</td>\n",
       "      <td>1</td>\n",
       "      <td>190</td>\n",
       "      <td>1</td>\n",
       "    </tr>\n",
       "    <tr>\n",
       "      <td>3</td>\n",
       "      <td>1</td>\n",
       "      <td>\"aceBAK\"</td>\n",
       "      <td>1</td>\n",
       "      <td>203</td>\n",
       "      <td>2</td>\n",
       "    </tr>\n",
       "    <tr>\n",
       "      <td>4</td>\n",
       "      <td>2</td>\n",
       "      <td>\"acnA\"</td>\n",
       "      <td>2</td>\n",
       "      <td>359</td>\n",
       "      <td>1</td>\n",
       "    </tr>\n",
       "  </tbody>\n",
       "</table>\n",
       "</div>"
      ],
      "text/plain": [
       "  id      name source target type\n",
       "0  1  \"aceBAK\"      1     24    2\n",
       "1  1  \"aceBAK\"      1    148    2\n",
       "2  1  \"aceBAK\"      1    190    1\n",
       "3  1  \"aceBAK\"      1    203    2\n",
       "4  2    \"acnA\"      2    359    1"
      ]
     },
     "execution_count": 189,
     "metadata": {},
     "output_type": "execute_result"
    }
   ],
   "source": [
    "df.head()"
   ]
  },
  {
   "cell_type": "code",
   "execution_count": 194,
   "metadata": {},
   "outputs": [],
   "source": [
    "typeShape_list = []\n",
    "\n",
    "for x, y in enumerate(df['type']):\n",
    "    if y == '1':\n",
    "        typeShape_list.append('circle')\n",
    "    \n",
    "    elif y == '2':\n",
    "        typeShape_list.append('triangle')\n",
    "    elif y == '3':\n",
    "        typeShape_list.append('hexagon')\n"
   ]
  },
  {
   "cell_type": "code",
   "execution_count": null,
   "metadata": {},
   "outputs": [],
   "source": []
  },
  {
   "cell_type": "code",
   "execution_count": 195,
   "metadata": {},
   "outputs": [
    {
     "data": {
      "text/html": [
       "<div>\n",
       "<style scoped>\n",
       "    .dataframe tbody tr th:only-of-type {\n",
       "        vertical-align: middle;\n",
       "    }\n",
       "\n",
       "    .dataframe tbody tr th {\n",
       "        vertical-align: top;\n",
       "    }\n",
       "\n",
       "    .dataframe thead th {\n",
       "        text-align: right;\n",
       "    }\n",
       "</style>\n",
       "<table border=\"1\" class=\"dataframe\">\n",
       "  <thead>\n",
       "    <tr style=\"text-align: right;\">\n",
       "      <th></th>\n",
       "      <th>id</th>\n",
       "      <th>name</th>\n",
       "      <th>source</th>\n",
       "      <th>target</th>\n",
       "      <th>type</th>\n",
       "    </tr>\n",
       "  </thead>\n",
       "  <tbody>\n",
       "    <tr>\n",
       "      <td>0</td>\n",
       "      <td>1</td>\n",
       "      <td>\"aceBAK\"</td>\n",
       "      <td>1</td>\n",
       "      <td>24</td>\n",
       "      <td>2</td>\n",
       "    </tr>\n",
       "    <tr>\n",
       "      <td>1</td>\n",
       "      <td>1</td>\n",
       "      <td>\"aceBAK\"</td>\n",
       "      <td>1</td>\n",
       "      <td>148</td>\n",
       "      <td>2</td>\n",
       "    </tr>\n",
       "    <tr>\n",
       "      <td>2</td>\n",
       "      <td>1</td>\n",
       "      <td>\"aceBAK\"</td>\n",
       "      <td>1</td>\n",
       "      <td>190</td>\n",
       "      <td>1</td>\n",
       "    </tr>\n",
       "    <tr>\n",
       "      <td>3</td>\n",
       "      <td>1</td>\n",
       "      <td>\"aceBAK\"</td>\n",
       "      <td>1</td>\n",
       "      <td>203</td>\n",
       "      <td>2</td>\n",
       "    </tr>\n",
       "    <tr>\n",
       "      <td>4</td>\n",
       "      <td>2</td>\n",
       "      <td>\"acnA\"</td>\n",
       "      <td>2</td>\n",
       "      <td>359</td>\n",
       "      <td>1</td>\n",
       "    </tr>\n",
       "  </tbody>\n",
       "</table>\n",
       "</div>"
      ],
      "text/plain": [
       "  id      name source target type\n",
       "0  1  \"aceBAK\"      1     24    2\n",
       "1  1  \"aceBAK\"      1    148    2\n",
       "2  1  \"aceBAK\"      1    190    1\n",
       "3  1  \"aceBAK\"      1    203    2\n",
       "4  2    \"acnA\"      2    359    1"
      ]
     },
     "execution_count": 195,
     "metadata": {},
     "output_type": "execute_result"
    }
   ],
   "source": [
    "df.head()"
   ]
  },
  {
   "cell_type": "code",
   "execution_count": 196,
   "metadata": {},
   "outputs": [
    {
     "data": {
      "text/html": [
       "<div>\n",
       "<style scoped>\n",
       "    .dataframe tbody tr th:only-of-type {\n",
       "        vertical-align: middle;\n",
       "    }\n",
       "\n",
       "    .dataframe tbody tr th {\n",
       "        vertical-align: top;\n",
       "    }\n",
       "\n",
       "    .dataframe thead th {\n",
       "        text-align: right;\n",
       "    }\n",
       "</style>\n",
       "<table border=\"1\" class=\"dataframe\">\n",
       "  <thead>\n",
       "    <tr style=\"text-align: right;\">\n",
       "      <th></th>\n",
       "      <th>id</th>\n",
       "      <th>name</th>\n",
       "      <th>source</th>\n",
       "      <th>target</th>\n",
       "      <th>type</th>\n",
       "      <th>typeShape</th>\n",
       "    </tr>\n",
       "  </thead>\n",
       "  <tbody>\n",
       "    <tr>\n",
       "      <td>0</td>\n",
       "      <td>1</td>\n",
       "      <td>\"aceBAK\"</td>\n",
       "      <td>1</td>\n",
       "      <td>24</td>\n",
       "      <td>2</td>\n",
       "      <td>triangle</td>\n",
       "    </tr>\n",
       "    <tr>\n",
       "      <td>1</td>\n",
       "      <td>1</td>\n",
       "      <td>\"aceBAK\"</td>\n",
       "      <td>1</td>\n",
       "      <td>148</td>\n",
       "      <td>2</td>\n",
       "      <td>triangle</td>\n",
       "    </tr>\n",
       "    <tr>\n",
       "      <td>2</td>\n",
       "      <td>1</td>\n",
       "      <td>\"aceBAK\"</td>\n",
       "      <td>1</td>\n",
       "      <td>190</td>\n",
       "      <td>1</td>\n",
       "      <td>circle</td>\n",
       "    </tr>\n",
       "    <tr>\n",
       "      <td>3</td>\n",
       "      <td>1</td>\n",
       "      <td>\"aceBAK\"</td>\n",
       "      <td>1</td>\n",
       "      <td>203</td>\n",
       "      <td>2</td>\n",
       "      <td>triangle</td>\n",
       "    </tr>\n",
       "    <tr>\n",
       "      <td>4</td>\n",
       "      <td>2</td>\n",
       "      <td>\"acnA\"</td>\n",
       "      <td>2</td>\n",
       "      <td>359</td>\n",
       "      <td>1</td>\n",
       "      <td>circle</td>\n",
       "    </tr>\n",
       "  </tbody>\n",
       "</table>\n",
       "</div>"
      ],
      "text/plain": [
       "  id      name source target type typeShape\n",
       "0  1  \"aceBAK\"      1     24    2  triangle\n",
       "1  1  \"aceBAK\"      1    148    2  triangle\n",
       "2  1  \"aceBAK\"      1    190    1    circle\n",
       "3  1  \"aceBAK\"      1    203    2  triangle\n",
       "4  2    \"acnA\"      2    359    1    circle"
      ]
     },
     "execution_count": 196,
     "metadata": {},
     "output_type": "execute_result"
    }
   ],
   "source": [
    "df[\"typeShape\"] = typeShape_list\n",
    "df.head()"
   ]
  },
  {
   "cell_type": "markdown",
   "metadata": {},
   "source": [
    "write to gml\n",
    "==="
   ]
  },
  {
   "cell_type": "code",
   "execution_count": 205,
   "metadata": {},
   "outputs": [],
   "source": [
    "import sys, time\n",
    "import pandas as pd\n",
    "import datetime as dt\n",
    "from IPython.display import display"
   ]
  },
  {
   "cell_type": "code",
   "execution_count": 206,
   "metadata": {},
   "outputs": [],
   "source": [
    "FILE_NAME = \"biological_formatted.gml\""
   ]
  },
  {
   "cell_type": "code",
   "execution_count": 207,
   "metadata": {},
   "outputs": [],
   "source": [
    "#Utility functions\n",
    "def progress(v):\n",
    "    v = str(v)\n",
    "    sys.stdout.flush()\n",
    "    sys.stdout.write('\\r')\n",
    "    sys.stdout.flush()\n",
    "    sys.stdout.write(v)"
   ]
  },
  {
   "cell_type": "code",
   "execution_count": 208,
   "metadata": {},
   "outputs": [
    {
     "name": "stdout",
     "output_type": "stream",
     "text": [
      "578\n",
      "Printing nodes over\n",
      "578\n",
      "Printing nodes and edges over\n"
     ]
    }
   ],
   "source": [
    "f = open(FILE_NAME, \"w\")\n",
    "#helpers\n",
    "s = \" \"\n",
    "ss = s+s\n",
    "sss = s+s+s\n",
    "ssss = s+s+s+s\n",
    "nl = \"\\n\"\n",
    "\n",
    "#loop helpers\n",
    "added = []\n",
    "ind = 0\n",
    "\n",
    "#Root node\n",
    "f.write(\"graph\"+nl)\n",
    "f.write(\"[\"+nl)\n",
    "\n",
    "\n",
    "\n",
    "#Write a node\n",
    "def write_node(r):\n",
    "    f.write( ss + \"node\" + nl)\n",
    "    f.write( ss + \"[\" + nl)\n",
    "    f.write( ssss + \"id\" + s + str(r['source']) + nl)\n",
    "    f.write( ssss + \"label\" + s + str(r['name']) + nl)\n",
    "    f.write( ss + \"]\"+ nl)\n",
    "\n",
    "\n",
    "#Write an edge\n",
    "def write_edge(r):\n",
    "    f.write( ss + \"edge\" + nl)\n",
    "    f.write( ss + \"[\" + nl)\n",
    "    f.write( ssss + \"source\" + s + str(r['source'])  + nl)\n",
    "    f.write( ssss + \"target\" + s  + str(r['target'])  + nl)\n",
    "    f.write( ssss + \"graphics\" + nl + ssss + \"[\" + s + \"type\"  + s + '\"' + str(r['typeShape']) + '\"'\\\n",
    "            +nl + ssss +\\\n",
    "            ']' \n",
    "            + nl)\n",
    "    f.write( ss + \"]\"+ nl)\n",
    "\n",
    "\n",
    "#Generate nodes\n",
    "for i, r in df.iterrows():\n",
    "    #increment, as index not reliable\n",
    "    ind += 1\n",
    "    #Check for duplicates\n",
    "    if (r['source'] not in added):\n",
    "        #Add to list\n",
    "        added.append(r['source'])\n",
    "        write_node(r)\n",
    "    #print the progress    \n",
    "    progress(ind)\n",
    "\n",
    "print(nl+\"Printing nodes over\")\n",
    "\n",
    "#flush index\n",
    "ind = 0    \n",
    "#Generate edges    \n",
    "for i, r in df.iterrows():\n",
    "    #increment, as index not reliable\n",
    "    ind += 1\n",
    "#     if(r['source'] < r['target']):\n",
    "    write_edge(r)\n",
    "    #print the progress            \n",
    "    progress(ind)\n",
    "\n",
    "print(nl+\"Printing nodes and edges over\")\n",
    "\n",
    "#closing node\n",
    "f.write(\"]\"+nl)\n",
    "f.close()\n"
   ]
  },
  {
   "cell_type": "code",
   "execution_count": null,
   "metadata": {},
   "outputs": [],
   "source": []
  },
  {
   "cell_type": "code",
   "execution_count": null,
   "metadata": {},
   "outputs": [],
   "source": []
  }
 ],
 "metadata": {
  "kernelspec": {
   "display_name": "Python 3",
   "language": "python",
   "name": "python3"
  },
  "language_info": {
   "codemirror_mode": {
    "name": "ipython",
    "version": 3
   },
   "file_extension": ".py",
   "mimetype": "text/x-python",
   "name": "python",
   "nbconvert_exporter": "python",
   "pygments_lexer": "ipython3",
   "version": "3.7.4"
  }
 },
 "nbformat": 4,
 "nbformat_minor": 2
}
