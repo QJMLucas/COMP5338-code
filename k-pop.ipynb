{
 "cells": [
  {
   "cell_type": "code",
   "execution_count": 1,
   "metadata": {},
   "outputs": [],
   "source": [
    "import pandas as pd"
   ]
  },
  {
   "cell_type": "code",
   "execution_count": 2,
   "metadata": {},
   "outputs": [],
   "source": [
    "node = pd.read_csv('K-pop_node.csv')"
   ]
  },
  {
   "cell_type": "code",
   "execution_count": 3,
   "metadata": {},
   "outputs": [],
   "source": [
    "edge = pd.read_csv('K-pop_edge.csv')"
   ]
  },
  {
   "cell_type": "code",
   "execution_count": 4,
   "metadata": {},
   "outputs": [
    {
     "data": {
      "text/html": [
       "<div>\n",
       "<style scoped>\n",
       "    .dataframe tbody tr th:only-of-type {\n",
       "        vertical-align: middle;\n",
       "    }\n",
       "\n",
       "    .dataframe tbody tr th {\n",
       "        vertical-align: top;\n",
       "    }\n",
       "\n",
       "    .dataframe thead th {\n",
       "        text-align: right;\n",
       "    }\n",
       "</style>\n",
       "<table border=\"1\" class=\"dataframe\">\n",
       "  <thead>\n",
       "    <tr style=\"text-align: right;\">\n",
       "      <th></th>\n",
       "      <th>id</th>\n",
       "      <th>type</th>\n",
       "      <th>name</th>\n",
       "      <th>source</th>\n",
       "      <th>target</th>\n",
       "    </tr>\n",
       "  </thead>\n",
       "  <tbody>\n",
       "    <tr>\n",
       "      <td>0</td>\n",
       "      <td>4735</td>\n",
       "      <td>label</td>\n",
       "      <td>레인보우브릿지에이전시</td>\n",
       "      <td>4735</td>\n",
       "      <td>1782</td>\n",
       "    </tr>\n",
       "    <tr>\n",
       "      <td>1</td>\n",
       "      <td>4735</td>\n",
       "      <td>label</td>\n",
       "      <td>레인보우브릿지에이전시</td>\n",
       "      <td>4735</td>\n",
       "      <td>1393</td>\n",
       "    </tr>\n",
       "    <tr>\n",
       "      <td>2</td>\n",
       "      <td>4735</td>\n",
       "      <td>label</td>\n",
       "      <td>레인보우브릿지에이전시</td>\n",
       "      <td>4735</td>\n",
       "      <td>4188</td>\n",
       "    </tr>\n",
       "    <tr>\n",
       "      <td>3</td>\n",
       "      <td>4735</td>\n",
       "      <td>label</td>\n",
       "      <td>레인보우브릿지에이전시</td>\n",
       "      <td>4735</td>\n",
       "      <td>4187</td>\n",
       "    </tr>\n",
       "    <tr>\n",
       "      <td>4</td>\n",
       "      <td>4733</td>\n",
       "      <td>label</td>\n",
       "      <td>가족액터스</td>\n",
       "      <td>4733</td>\n",
       "      <td>4635</td>\n",
       "    </tr>\n",
       "  </tbody>\n",
       "</table>\n",
       "</div>"
      ],
      "text/plain": [
       "     id   type         name  source  target\n",
       "0  4735  label  레인보우브릿지에이전시    4735    1782\n",
       "1  4735  label  레인보우브릿지에이전시    4735    1393\n",
       "2  4735  label  레인보우브릿지에이전시    4735    4188\n",
       "3  4735  label  레인보우브릿지에이전시    4735    4187\n",
       "4  4733  label        가족액터스    4733    4635"
      ]
     },
     "execution_count": 4,
     "metadata": {},
     "output_type": "execute_result"
    }
   ],
   "source": [
    "df = node.merge(edge, left_on='id', right_on='source', suffixes= ('_left', '_right'))\n",
    "\n",
    "df.head()"
   ]
  },
  {
   "cell_type": "code",
   "execution_count": 22,
   "metadata": {},
   "outputs": [
    {
     "data": {
      "text/plain": [
       "array(['label', 'group', 'person', 'male', 'female'], dtype=object)"
      ]
     },
     "execution_count": 22,
     "metadata": {},
     "output_type": "execute_result"
    }
   ],
   "source": [
    "df['type'].unique()"
   ]
  },
  {
   "cell_type": "code",
   "execution_count": 72,
   "metadata": {},
   "outputs": [],
   "source": [
    "genderList = []\n",
    "\n",
    "for x, y in enumerate(df['type']):\n",
    "    \n",
    "    if y == 'label':\n",
    "        genderList.append('diamond')\n",
    "    elif y == 'group':\n",
    "        genderList.append('circle')\n",
    "    else:\n",
    "        genderList.append('triangle')\n",
    "        "
   ]
  },
  {
   "cell_type": "code",
   "execution_count": 73,
   "metadata": {},
   "outputs": [],
   "source": [
    "labelFontList = []\n",
    "\n",
    "for x, y in enumerate(df['name']):\n",
    "    if y == 'S.M.Entertainment':\n",
    "        labelFontList.append(250)\n",
    "    elif y == 'LOEN Entertainment':\n",
    "        labelFontList.append(250)\n",
    "\n",
    "    elif y == 'Mnet Media':\n",
    "        labelFontList.append(250)\n",
    "\n",
    "    elif y == '유니버설 뮤직 그룹':\n",
    "        labelFontList.append(250)\n",
    "    else:\n",
    "        labelFontList.append(0)"
   ]
  },
  {
   "cell_type": "code",
   "execution_count": 74,
   "metadata": {},
   "outputs": [],
   "source": [
    "df = df.assign(genderSymbol=genderList)\n",
    "df = df.assign(labelFont = labelFontList)"
   ]
  },
  {
   "cell_type": "code",
   "execution_count": 75,
   "metadata": {},
   "outputs": [],
   "source": [
    "df['name'] = df['name'].str.replace('&','and')\n",
    "df['name'] = df['name'].str.replace('\"','')\n",
    "df['name'] = df['name'].str.replace('\\'','')\n"
   ]
  },
  {
   "cell_type": "code",
   "execution_count": 76,
   "metadata": {},
   "outputs": [
    {
     "data": {
      "text/plain": [
       "id               int64\n",
       "type            object\n",
       "name            object\n",
       "source           int64\n",
       "target           int64\n",
       "genderSymbol    object\n",
       "labelFont        int64\n",
       "dtype: object"
      ]
     },
     "execution_count": 76,
     "metadata": {},
     "output_type": "execute_result"
    }
   ],
   "source": [
    "df.dtypes"
   ]
  },
  {
   "cell_type": "code",
   "execution_count": 77,
   "metadata": {},
   "outputs": [
    {
     "data": {
      "text/html": [
       "<div>\n",
       "<style scoped>\n",
       "    .dataframe tbody tr th:only-of-type {\n",
       "        vertical-align: middle;\n",
       "    }\n",
       "\n",
       "    .dataframe tbody tr th {\n",
       "        vertical-align: top;\n",
       "    }\n",
       "\n",
       "    .dataframe thead th {\n",
       "        text-align: right;\n",
       "    }\n",
       "</style>\n",
       "<table border=\"1\" class=\"dataframe\">\n",
       "  <thead>\n",
       "    <tr style=\"text-align: right;\">\n",
       "      <th></th>\n",
       "      <th>id</th>\n",
       "      <th>type</th>\n",
       "      <th>name</th>\n",
       "      <th>source</th>\n",
       "      <th>target</th>\n",
       "      <th>genderSymbol</th>\n",
       "      <th>labelFont</th>\n",
       "    </tr>\n",
       "  </thead>\n",
       "  <tbody>\n",
       "    <tr>\n",
       "      <td>0</td>\n",
       "      <td>4735</td>\n",
       "      <td>label</td>\n",
       "      <td>레인보우브릿지에이전시</td>\n",
       "      <td>4735</td>\n",
       "      <td>1782</td>\n",
       "      <td>diamond</td>\n",
       "      <td>0</td>\n",
       "    </tr>\n",
       "    <tr>\n",
       "      <td>1</td>\n",
       "      <td>4735</td>\n",
       "      <td>label</td>\n",
       "      <td>레인보우브릿지에이전시</td>\n",
       "      <td>4735</td>\n",
       "      <td>1393</td>\n",
       "      <td>diamond</td>\n",
       "      <td>0</td>\n",
       "    </tr>\n",
       "    <tr>\n",
       "      <td>2</td>\n",
       "      <td>4735</td>\n",
       "      <td>label</td>\n",
       "      <td>레인보우브릿지에이전시</td>\n",
       "      <td>4735</td>\n",
       "      <td>4188</td>\n",
       "      <td>diamond</td>\n",
       "      <td>0</td>\n",
       "    </tr>\n",
       "    <tr>\n",
       "      <td>3</td>\n",
       "      <td>4735</td>\n",
       "      <td>label</td>\n",
       "      <td>레인보우브릿지에이전시</td>\n",
       "      <td>4735</td>\n",
       "      <td>4187</td>\n",
       "      <td>diamond</td>\n",
       "      <td>0</td>\n",
       "    </tr>\n",
       "    <tr>\n",
       "      <td>4</td>\n",
       "      <td>4733</td>\n",
       "      <td>label</td>\n",
       "      <td>가족액터스</td>\n",
       "      <td>4733</td>\n",
       "      <td>4635</td>\n",
       "      <td>diamond</td>\n",
       "      <td>0</td>\n",
       "    </tr>\n",
       "  </tbody>\n",
       "</table>\n",
       "</div>"
      ],
      "text/plain": [
       "     id   type         name  source  target genderSymbol  labelFont\n",
       "0  4735  label  레인보우브릿지에이전시    4735    1782      diamond          0\n",
       "1  4735  label  레인보우브릿지에이전시    4735    1393      diamond          0\n",
       "2  4735  label  레인보우브릿지에이전시    4735    4188      diamond          0\n",
       "3  4735  label  레인보우브릿지에이전시    4735    4187      diamond          0\n",
       "4  4733  label        가족액터스    4733    4635      diamond          0"
      ]
     },
     "execution_count": 77,
     "metadata": {},
     "output_type": "execute_result"
    }
   ],
   "source": [
    "df.head()"
   ]
  },
  {
   "cell_type": "code",
   "execution_count": 78,
   "metadata": {},
   "outputs": [],
   "source": [
    "# final['source'] = final['source'].astype(str)"
   ]
  },
  {
   "cell_type": "code",
   "execution_count": 79,
   "metadata": {},
   "outputs": [],
   "source": [
    "import sys"
   ]
  },
  {
   "cell_type": "code",
   "execution_count": 80,
   "metadata": {},
   "outputs": [],
   "source": [
    "FILE_NAME = \"kpop.gml\""
   ]
  },
  {
   "cell_type": "code",
   "execution_count": 81,
   "metadata": {},
   "outputs": [],
   "source": [
    "#Utility functions\n",
    "def progress(v):\n",
    "    v = str(v)\n",
    "    sys.stdout.flush()\n",
    "    sys.stdout.write('\\r')\n",
    "    sys.stdout.flush()\n",
    "    sys.stdout.write(v)"
   ]
  },
  {
   "cell_type": "code",
   "execution_count": 82,
   "metadata": {},
   "outputs": [
    {
     "name": "stdout",
     "output_type": "stream",
     "text": [
      "1500"
     ]
    },
    {
     "name": "stderr",
     "output_type": "stream",
     "text": [
      "IOPub message rate exceeded.\n",
      "The notebook server will temporarily stop sending output\n",
      "to the client in order to avoid crashing it.\n",
      "To change this limit, set the config variable\n",
      "`--NotebookApp.iopub_msg_rate_limit`.\n",
      "\n",
      "Current values:\n",
      "NotebookApp.iopub_msg_rate_limit=1000.0 (msgs/sec)\n",
      "NotebookApp.rate_limit_window=3.0 (secs)\n",
      "\n"
     ]
    },
    {
     "name": "stdout",
     "output_type": "stream",
     "text": [
      "3581\r"
     ]
    },
    {
     "name": "stderr",
     "output_type": "stream",
     "text": [
      "IOPub message rate exceeded.\n",
      "The notebook server will temporarily stop sending output\n",
      "to the client in order to avoid crashing it.\n",
      "To change this limit, set the config variable\n",
      "`--NotebookApp.iopub_msg_rate_limit`.\n",
      "\n",
      "Current values:\n",
      "NotebookApp.iopub_msg_rate_limit=1000.0 (msgs/sec)\n",
      "NotebookApp.rate_limit_window=3.0 (secs)\n",
      "\n"
     ]
    },
    {
     "name": "stdout",
     "output_type": "stream",
     "text": [
      "5094\n",
      "Printing nodes over\n",
      "588"
     ]
    },
    {
     "name": "stderr",
     "output_type": "stream",
     "text": [
      "IOPub message rate exceeded.\n",
      "The notebook server will temporarily stop sending output\n",
      "to the client in order to avoid crashing it.\n",
      "To change this limit, set the config variable\n",
      "`--NotebookApp.iopub_msg_rate_limit`.\n",
      "\n",
      "Current values:\n",
      "NotebookApp.iopub_msg_rate_limit=1000.0 (msgs/sec)\n",
      "NotebookApp.rate_limit_window=3.0 (secs)\n",
      "\n"
     ]
    },
    {
     "name": "stdout",
     "output_type": "stream",
     "text": [
      "2687\r"
     ]
    },
    {
     "name": "stderr",
     "output_type": "stream",
     "text": [
      "IOPub message rate exceeded.\n",
      "The notebook server will temporarily stop sending output\n",
      "to the client in order to avoid crashing it.\n",
      "To change this limit, set the config variable\n",
      "`--NotebookApp.iopub_msg_rate_limit`.\n",
      "\n",
      "Current values:\n",
      "NotebookApp.iopub_msg_rate_limit=1000.0 (msgs/sec)\n",
      "NotebookApp.rate_limit_window=3.0 (secs)\n",
      "\n"
     ]
    },
    {
     "name": "stdout",
     "output_type": "stream",
     "text": [
      "5094\n",
      "Printing nodes and edges over\n"
     ]
    }
   ],
   "source": [
    "f = open(FILE_NAME, \"w\")\n",
    "#helpers\n",
    "s = \" \"\n",
    "ss = s+s\n",
    "sss = s+s+s\n",
    "ssss = s+s+s+s\n",
    "nl = \"\\n\"\n",
    "\n",
    "#loop helpers\n",
    "added = []\n",
    "ind = 0\n",
    "\n",
    "#Root node\n",
    "f.write(\"graph\"+nl)\n",
    "f.write(\"[\"+nl)\n",
    "\n",
    "\n",
    "\n",
    "#Write a node\n",
    "def write_node(r):\n",
    "    f.write( ss + \"node\" + nl)\n",
    "    f.write( ss + \"[\" + nl)\n",
    "    f.write( ssss + \"id\" + s +  str(r['id']) + nl)\n",
    "    f.write( ssss + \"label\" + s + '\"' + str(r['name']) + '\"' + nl)\n",
    "    f.write( ssss + \"graphics\" + nl + ssss + \"[\" + s + \"type\"  + s + '\"' + str(r['genderSymbol']) + '\"'\\\n",
    "            +nl + ssss +\\\n",
    "            ']' \n",
    "            + nl)\n",
    "    f.write( ssss + \"LabelGraphics\" + nl + ssss + \"[\" + s + \"fontSize\" + s  + str(r['labelFont'])\\\n",
    "            + nl  + ssss  + ']'\\\n",
    "            + nl)\n",
    "    f.write( ss + \"]\"+ nl)\n",
    "    \n",
    "#.fontSize\t\n",
    "\n",
    "\n",
    "#Write an edge\n",
    "def write_edge(r):\n",
    "    f.write( ss + \"edge\" + nl)\n",
    "    f.write( ss + \"[\" + nl)\n",
    "    f.write( ssss + \"source\" + s + str(r['source'])  + nl)\n",
    "    f.write( ssss + \"target\" + s  + str(r['target'])  + nl)\n",
    "    f.write( ss + \"]\"+ nl)\n",
    "\n",
    "\n",
    "#Generate nodes\n",
    "for i, r in df.iterrows():\n",
    "    #increment, as index not reliable\n",
    "    ind += 1\n",
    "    #Check for duplicates\n",
    "    if (r['source'] not in added):\n",
    "        #Add to list\n",
    "        added.append(r['source'])\n",
    "        write_node(r)\n",
    "    #print the progress    \n",
    "    progress(ind)\n",
    "\n",
    "print(nl+\"Printing nodes over\")\n",
    "\n",
    "#flush index\n",
    "ind = 0\n",
    "#Generate edges    \n",
    "for i, r in df.iterrows():\n",
    "    #increment, as index not reliable\n",
    "    ind += 1\n",
    "#     if(r['source'] < r['target']):\n",
    "    write_edge(r)\n",
    "    #print the progress            \n",
    "    progress(ind)\n",
    "\n",
    "print(nl+\"Printing nodes and edges over\")\n",
    "\n",
    "#closing node\n",
    "f.write(\"]\"+nl)\n",
    "f.close()"
   ]
  },
  {
   "cell_type": "code",
   "execution_count": 83,
   "metadata": {},
   "outputs": [],
   "source": [
    "# replace &"
   ]
  },
  {
   "cell_type": "code",
   "execution_count": null,
   "metadata": {},
   "outputs": [],
   "source": []
  },
  {
   "cell_type": "code",
   "execution_count": null,
   "metadata": {},
   "outputs": [],
   "source": []
  }
 ],
 "metadata": {
  "kernelspec": {
   "display_name": "Python 3",
   "language": "python",
   "name": "python3"
  },
  "language_info": {
   "codemirror_mode": {
    "name": "ipython",
    "version": 3
   },
   "file_extension": ".py",
   "mimetype": "text/x-python",
   "name": "python",
   "nbconvert_exporter": "python",
   "pygments_lexer": "ipython3",
   "version": "3.7.4"
  }
 },
 "nbformat": 4,
 "nbformat_minor": 2
}
